{
 "cells": [
  {
   "cell_type": "code",
   "execution_count": 31,
   "id": "cedb3823",
   "metadata": {},
   "outputs": [
    {
     "name": "stdout",
     "output_type": "stream",
     "text": [
      "\n",
      "******************* Calculadora em Python *******************\n",
      "\n",
      " Esta calculadora permite fazer cálculos simples como somar, subtrair, multiplicar e dividir.\n",
      "Escolha, escrevendo a letra correspondente, a operação que deseja realizar:\n",
      "A - Soma de dois números\n",
      "B - Subtração de dois números\n",
      "C - Multiplicação de dois números\n",
      "D - Divisão de dois números\n",
      "E - Quadrado de um número\n",
      "\n",
      "Insira a letra correspondete à operação que quer realizar:\n",
      "\n",
      "e\n",
      "Insira o número:\n",
      "\n",
      "2\n",
      "\n",
      " O quadrado de 2.0 é 4.0\n"
     ]
    }
   ],
   "source": [
    "# Calculadora em Python\n",
    "\n",
    "# Desenvolva uma calculadora em Python com tudo que você aprendeu nos capítulos até aqui no curso. \n",
    "# A solução será apresentada no próximo capítulo!\n",
    "\n",
    "print(\"\\n******************* Calculadora em Python *******************\")\n",
    "\n",
    "\n",
    "print(\"\\n Esta calculadora permite fazer cálculos simples como somar, subtrair, multiplicar e dividir.\")\n",
    "\n",
    "\n",
    "def soma_nums(a,b):\n",
    "    return a+b\n",
    "def subtrai_nums(a,b):\n",
    "    return a-b\n",
    "def multiplica_nums(a,b):\n",
    "    return a*b\n",
    "def divide_nums(a,b):\n",
    "    return a/b\n",
    "def num_pot_2(a):\n",
    "    return a**2\n",
    "\n",
    "print('''Escolha, escrevendo a letra correspondente, a operação que deseja realizar:\n",
    "A - Soma de dois números\n",
    "B - Subtração de dois números\n",
    "C - Multiplicação de dois números\n",
    "D - Divisão de dois números\n",
    "E - Quadrado de um número\n",
    "''')\n",
    "\n",
    "\n",
    "operacao_valida = False\n",
    "print(\"Insira a letra correspondete à operação que quer realizar:\\n\")\n",
    "max_tentativas = 3\n",
    "\n",
    "while not operacao_valida:\n",
    "    operacao = input()\n",
    "    if operacao in ('a','A','b','B','c','C','d','D','e','E'):\n",
    "        operacao_valida = True\n",
    "    else:\n",
    "        print(\"A operação escolhida não é válida! Escolha uma das letras A, B, C, D ou E.\\n\")\n",
    "        max_tentativas -= 1\n",
    "    if max_tentativas == 0:\n",
    "        print(\"\\nExcedeu o número de tentaivas para selecionar a operação. \\n *** Programa finalizado! ***\")\n",
    "        break\n",
    "\n",
    "if operacao_valida:\n",
    "    if operacao == 'e' or operacao == 'E':\n",
    "        print(\"Insira o número:\\n\")\n",
    "        num1 = float(input())\n",
    "        res = num_pot_2(num1)\n",
    "        print(f\"\\n O quadrado de %s é %s\" %(num1, res))\n",
    "    else:\n",
    "        print(\"Insira o primeiro número:\\n\")\n",
    "        num1 = float(input())\n",
    "\n",
    "        print(\"Insira o segundo número:\\n\")\n",
    "        num2 = float(input())\n",
    "\n",
    "        if operacao == 'a' or operacao == 'A':\n",
    "            res = soma_nums(num1, num2)\n",
    "            print(f\"\\n A soma %s + %s é %s\" %(num1, num2, res))\n",
    "        elif operacao == 'b' or operacao == 'B':\n",
    "            res = subtrai_nums(num1, num2)\n",
    "            print(f\"\\n A subtração %s - %s é %s\" %(num1, num2, res))\n",
    "        elif operacao == 'c' or operacao == 'C':\n",
    "            res = multiplica_nums(num1, num2)\n",
    "            print(f\"\\n A multiplicação %s * %s é %s\" %(num1, num2, res))\n",
    "        elif operacao == 'd' or operacao == 'D':\n",
    "            if num2 != 0:\n",
    "                res = divide_nums(num1, num2)\n",
    "                print(f\"\\n A divisão %s / %s é %s\" %(num1, num2, res))\n",
    "            else:\n",
    "                print(\"\\n A divisão por zero (0) não é possível!!!\")\n",
    "        \n",
    "                "
   ]
  },
  {
   "cell_type": "code",
   "execution_count": 32,
   "id": "ee0a80b4",
   "metadata": {},
   "outputs": [
    {
     "name": "stdout",
     "output_type": "stream",
     "text": [
      "['a', 'b', '1', '2']\n"
     ]
    }
   ],
   "source": [
    "lsta = ['a','b']\n",
    "lstb = ['1','2']\n",
    "lista = lsta+lstb\n",
    "print(lista)"
   ]
  }
 ],
 "metadata": {
  "kernelspec": {
   "display_name": "Python 3 (ipykernel)",
   "language": "python",
   "name": "python3"
  },
  "language_info": {
   "codemirror_mode": {
    "name": "ipython",
    "version": 3
   },
   "file_extension": ".py",
   "mimetype": "text/x-python",
   "name": "python",
   "nbconvert_exporter": "python",
   "pygments_lexer": "ipython3",
   "version": "3.11.5"
  }
 },
 "nbformat": 4,
 "nbformat_minor": 5
}
